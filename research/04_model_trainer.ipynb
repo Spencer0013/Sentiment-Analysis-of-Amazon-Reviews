{
 "cells": [
  {
   "cell_type": "code",
   "execution_count": 1,
   "id": "f1fc230d",
   "metadata": {},
   "outputs": [],
   "source": [
    "import os"
   ]
  },
  {
   "cell_type": "code",
   "execution_count": 2,
   "id": "c94e4655",
   "metadata": {},
   "outputs": [
    {
     "data": {
      "text/plain": [
       "'c:\\\\Users\\\\ainao\\\\Downloads\\\\Projects\\\\Sentiment Analysis of Amazon Reviews\\\\research'"
      ]
     },
     "execution_count": 2,
     "metadata": {},
     "output_type": "execute_result"
    }
   ],
   "source": [
    "%pwd"
   ]
  },
  {
   "cell_type": "code",
   "execution_count": 3,
   "id": "943e0171",
   "metadata": {},
   "outputs": [],
   "source": [
    "os.chdir(\"../\")"
   ]
  },
  {
   "cell_type": "code",
   "execution_count": 4,
   "id": "8545819d",
   "metadata": {},
   "outputs": [
    {
     "data": {
      "text/plain": [
       "'c:\\\\Users\\\\ainao\\\\Downloads\\\\Projects\\\\Sentiment Analysis of Amazon Reviews'"
      ]
     },
     "execution_count": 4,
     "metadata": {},
     "output_type": "execute_result"
    }
   ],
   "source": [
    "%pwd"
   ]
  },
  {
   "cell_type": "code",
   "execution_count": 5,
   "id": "464ae147",
   "metadata": {},
   "outputs": [],
   "source": [
    "from dataclasses import dataclass\n",
    "from pathlib import Path\n",
    "\n",
    "\n",
    "@dataclass(frozen=True)\n",
    "class ModelTrainerConfig:\n",
    "    root_dir: Path\n",
    "    data_path: Path\n",
    "    model_save_path: Path\n",
    "    token_embed_path: Path\n",
    "    epochs:int\n",
    "    classes:int\n",
    "    learning_rate:float\n",
    "    input_shape:tuple\n",
    "    input_dtype: int\n",
    "    params: any\n",
    "    random_state:int\n"
   ]
  },
  {
   "cell_type": "code",
   "execution_count": 6,
   "id": "d83364c8",
   "metadata": {},
   "outputs": [],
   "source": [
    "from typing import Union\n",
    "from pathlib import Path\n",
    "from sentimentanalyzer.utils.common import read_yaml, create_directories, set_seed# adjust import as needed\n",
    "from sentimentanalyzer.constants import CONFIG_FILE_PATH, PARAMS_FILE_PATH\n",
    "import numpy as np\n",
    "import tensorflow as tf\n",
    "from tensorflow.keras import layers, models, losses, optimizers\n",
    "from dataclasses import dataclass"
   ]
  },
  {
   "cell_type": "code",
   "execution_count": 7,
   "id": "be590a2f",
   "metadata": {},
   "outputs": [],
   "source": [
    "\n",
    "CONFIG_FILE_PATH = Path(\"config/config.yaml\")\n",
    "PARAMS_FILE_PATH = Path(\"params.yaml\")\n",
    "\n",
    "class ConfigurationManager:\n",
    "    def __init__(\n",
    "        self,\n",
    "        config_filepath: Union[str, Path] = CONFIG_FILE_PATH,\n",
    "        params_filepath: Union[str, Path] = PARAMS_FILE_PATH\n",
    "    ):\n",
    "        self.config = read_yaml(config_filepath)\n",
    "        print(\">>> CONFIG CONTENTS:\", self.config)\n",
    "        print(\">>> CONFIG KEYS:\", list(self.config.keys()))\n",
    "\n",
    "        self.params = read_yaml(params_filepath)\n",
    "        print(\">>> PARAMS CONTENTS:\", self.params)\n",
    "        print(\">>> PARAMS KEYS:\", list(self.params.keys()))\n",
    "\n",
    "        # Create root directory if exists\n",
    "        if 'artifacts_root' in self.config:\n",
    "            create_directories([self.config.artifacts_root])\n",
    "        else:\n",
    "            raise KeyError(\"Missing 'artifacts_root' in config.yaml\")\n",
    "\n",
    "\n",
    "        create_directories([self.config.artifacts_root])\n",
    "\n",
    "    def get_model_trainer_config(self) -> ModelTrainerConfig:\n",
    "        \"\"\"\n",
    "        Read the `model_trainer` section of the config and\n",
    "        combine it with training params into a ModelTrainerConfig.\n",
    "        \"\"\"\n",
    "        config = self.config.model_trainer\n",
    "\n",
    "        # make sure the model‐trainer folder exists\n",
    "        create_directories([config.root_dir])\n",
    "\n",
    "        return ModelTrainerConfig(\n",
    "            root_dir=config.root_dir,\n",
    "            data_path = config.data_path,\n",
    "            model_save_path=config.model_save_path,\n",
    "            token_embed_path=config.token_embed_path,\n",
    "            epochs=self.params.epochs,\n",
    "            classes=self.params.classes,\n",
    "            learning_rate=self.params.learning_rate,\n",
    "            input_shape=self.params.input_shape,\n",
    "            input_dtype=self.params.input_dtype,\n",
    "            params=self.params,\n",
    "            random_state= self.params.random_state\n",
    "        )\n"
   ]
  },
  {
   "cell_type": "code",
   "execution_count": 8,
   "id": "c55628b6",
   "metadata": {},
   "outputs": [],
   "source": [
    "import ast\n",
    "import numpy as np\n",
    "import tensorflow as tf\n",
    "from tensorflow.keras import layers, models, losses, optimizers\n",
    "\n",
    "\n",
    "class ModelTrainer:\n",
    "    def __init__(self, config: 'ModelTrainerConfig'):\n",
    "        self.config = config\n",
    "        self.params = config.params\n",
    "\n",
    "        set_seed(self.config.random_state)\n",
    "        # (You already loaded these embeddings earlier if needed)\n",
    "        self.token_embed = np.load(self.config.token_embed_path)\n",
    "\n",
    "    def train(self):\n",
    "        data_path = Path(self.config.data_path)\n",
    "        \n",
    "        # 1) Ensure input_shape is a tuple\n",
    "        input_shape = self.config.input_shape\n",
    "        if isinstance(input_shape, str):\n",
    "            input_shape = tuple(ast.literal_eval(input_shape))\n",
    "\n",
    "\n",
    "        # 2) Define Input layer for precomputed float32 embeddings\n",
    "        inputs = layers.Input(\n",
    "            shape=input_shape,    # e.g. (163, 107)\n",
    "            dtype=tf.float32,     # embeddings are float32\n",
    "            name=\"embedding_input\"\n",
    "        )\n",
    "\n",
    "        # 3) Conv + pooling\n",
    "        x = layers.Conv1D(64, kernel_size=5, padding=\"same\", activation=\"relu\")(inputs)\n",
    "        x = layers.GlobalAveragePooling1D()(x)\n",
    "\n",
    "        # 4) Classification head — use `classes` from params\n",
    "        outputs = layers.Dense(\n",
    "            units=self.params.classes,\n",
    "            activation=\"softmax\",\n",
    "            name=\"classifier\"\n",
    "        )(x)\n",
    "\n",
    "        # 5) Build & compile\n",
    "        model = models.Model(inputs=inputs, outputs=outputs, name=\"EmbeddingConv1DModel\")\n",
    "        model.compile(\n",
    "            optimizer=optimizers.Adam(learning_rate=self.params.learning_rate),\n",
    "            loss=losses.SparseCategoricalCrossentropy(), \n",
    "            metrics=[\"accuracy\"]\n",
    "        )\n",
    "\n",
    "    \n",
    "        \n",
    "        model.summary()\n",
    "\n",
    "        # 6) Load tf.data datasets (must yield (embeddings, labels))\n",
    "        #root = Path(self.config.root_dir)\n",
    "        \n",
    "        train_ds = tf.data.experimental.load(str(data_path / \"train_ds\"))\n",
    "        valid_ds = tf.data.experimental.load(str(data_path / \"valid_ds\"))\n",
    "\n",
    "\n",
    "        # 7) Train\n",
    "        model.fit(\n",
    "            train_ds,\n",
    "            epochs=self.params.epochs,\n",
    "            validation_data=valid_ds\n",
    "        )\n",
    "\n",
    "        # 8) Save\n",
    "        model.save(self.config.model_save_path)\n",
    "\n",
    "        return model\n"
   ]
  },
  {
   "cell_type": "code",
   "execution_count": 9,
   "id": "9e61d1f9",
   "metadata": {},
   "outputs": [
    {
     "name": "stdout",
     "output_type": "stream",
     "text": [
      "[2025-06-14 22:39:52,599: INFO: common: yaml file: config\\config.yaml loaded successfully]\n",
      ">>> CONFIG CONTENTS: {'artifacts_root': 'artifacts', 'data_ingestion': {'root_dir': 'artifacts/data_ingestion', 'source_URL': 'https://github.com/Spencer0013/NLP-Text-Summarizer-Project/raw/refs/heads/main/Dataa.zip', 'local_data_file': 'artifacts/data_ingestion/data.zip', 'unzip_dir': 'artifacts/data_ingestion'}, 'data_preprocessing': {'root_dir': 'artifacts/data_preprocessing', 'ingestion_dir': 'artifacts/data_ingestion', 'output_dir': 'artifacts/data_preprocessing'}, 'data_transformation': {'root_dir': 'artifacts/data_transformation', 'transformer_data': 'artifacts/data_transformation/transformer_data', 'data_path_train': 'artifacts/data_preprocessing/train_clean.csv', 'model_name': 'bert-base-uncased', 'data_path_test': 'artifacts/data_preprocessing/test_clean.csv', 'transformed_token_embedding_path': 'artifacts/data_transformation/token_embeddings.npy'}, 'model_trainer': {'root_dir': 'artifacts/model_trainer', 'data_path': 'artifacts/data_transformation', 'token_embed_path': 'artifacts/data_transformation/token_embeddings.npy', 'model_save_path': 'artifacts/model_trainer/model.h5'}, 'model_trainer_USE': None, 'root_dir': 'artifacts/model_trainer_USE', 'data_path': 'artifacts/data_transformation', 'use_model_path': 'https://tfhub.dev/google/universal-sentence-encoder/4', 'epochs': 10, 'batch_size': 32, 'model_save_path': 'artifacts/model_trainer_USE/model.h5'}\n",
      ">>> CONFIG KEYS: ['artifacts_root', 'data_ingestion', 'data_preprocessing', 'data_transformation', 'model_trainer', 'model_trainer_USE', 'root_dir', 'data_path', 'use_model_path', 'epochs', 'batch_size', 'model_save_path']\n",
      "[2025-06-14 22:39:52,608: INFO: common: yaml file: params.yaml loaded successfully]\n",
      ">>> PARAMS CONTENTS: {'max_tokens': 11470, 'output_sequence_length': 163, 'input_dim': 11470, 'output_dim': 107, 'batch_size': 32, 'epochs': 10, 'classes': 2, 'learning_rate': 0.001, 'input_shape': '(163, 107)', 'input_dtype': 'int', 'num_labels': 2, 'max_length': 163, 'random_state': 42}\n",
      ">>> PARAMS KEYS: ['max_tokens', 'output_sequence_length', 'input_dim', 'output_dim', 'batch_size', 'epochs', 'classes', 'learning_rate', 'input_shape', 'input_dtype', 'num_labels', 'max_length', 'random_state']\n",
      "[2025-06-14 22:39:52,608: INFO: common: created directory at: artifacts]\n",
      "[2025-06-14 22:39:52,616: INFO: common: created directory at: artifacts]\n",
      "[2025-06-14 22:39:52,619: INFO: common: created directory at: artifacts/model_trainer]\n",
      "Model: \"EmbeddingConv1DModel\"\n",
      "_________________________________________________________________\n",
      " Layer (type)                Output Shape              Param #   \n",
      "=================================================================\n",
      " embedding_input (InputLaye  [(None, 163, 107)]        0         \n",
      " r)                                                              \n",
      "                                                                 \n",
      " conv1d (Conv1D)             (None, 163, 64)           34304     \n",
      "                                                                 \n",
      " global_average_pooling1d (  (None, 64)                0         \n",
      " GlobalAveragePooling1D)                                         \n",
      "                                                                 \n",
      " classifier (Dense)          (None, 2)                 130       \n",
      "                                                                 \n",
      "=================================================================\n",
      "Total params: 34434 (134.51 KB)\n",
      "Trainable params: 34434 (134.51 KB)\n",
      "Non-trainable params: 0 (0.00 Byte)\n",
      "_________________________________________________________________\n",
      "[2025-06-14 22:39:52,829: WARNING: deprecation: From C:\\Users\\ainao\\AppData\\Local\\Temp\\ipykernel_43056\\2068168890.py:58: load (from tensorflow.python.data.experimental.ops.io) is deprecated and will be removed in a future version.\n",
      "Instructions for updating:\n",
      "Use `tf.data.Dataset.load(...)` instead.]\n",
      "Epoch 1/10\n",
      "25/25 [==============================] - 2s 33ms/step - loss: 0.6938 - accuracy: 0.5138 - val_loss: 0.6888 - val_accuracy: 0.5450\n",
      "Epoch 2/10\n",
      "25/25 [==============================] - 0s 16ms/step - loss: 0.6926 - accuracy: 0.5225 - val_loss: 0.6892 - val_accuracy: 0.5450\n",
      "Epoch 3/10\n",
      "25/25 [==============================] - 0s 13ms/step - loss: 0.6922 - accuracy: 0.5225 - val_loss: 0.6895 - val_accuracy: 0.5450\n",
      "Epoch 4/10\n",
      "25/25 [==============================] - 0s 17ms/step - loss: 0.6919 - accuracy: 0.5225 - val_loss: 0.6893 - val_accuracy: 0.5450\n",
      "Epoch 5/10\n",
      "25/25 [==============================] - 1s 24ms/step - loss: 0.6915 - accuracy: 0.5225 - val_loss: 0.6893 - val_accuracy: 0.5450\n",
      "Epoch 6/10\n",
      "25/25 [==============================] - 1s 30ms/step - loss: 0.6909 - accuracy: 0.5225 - val_loss: 0.6892 - val_accuracy: 0.5450\n",
      "Epoch 7/10\n",
      "25/25 [==============================] - 1s 35ms/step - loss: 0.6902 - accuracy: 0.5238 - val_loss: 0.6890 - val_accuracy: 0.5450\n",
      "Epoch 8/10\n",
      "25/25 [==============================] - 1s 31ms/step - loss: 0.6894 - accuracy: 0.5225 - val_loss: 0.6889 - val_accuracy: 0.5450\n",
      "Epoch 9/10\n",
      "25/25 [==============================] - 1s 30ms/step - loss: 0.6883 - accuracy: 0.5238 - val_loss: 0.6886 - val_accuracy: 0.5450\n",
      "Epoch 10/10\n",
      "25/25 [==============================] - 1s 28ms/step - loss: 0.6870 - accuracy: 0.5325 - val_loss: 0.6883 - val_accuracy: 0.5500\n"
     ]
    },
    {
     "name": "stderr",
     "output_type": "stream",
     "text": [
      "c:\\Users\\ainao\\anaconda3\\envs\\sentA\\lib\\site-packages\\keras\\src\\engine\\training.py:3000: UserWarning: You are saving your model as an HDF5 file via `model.save()`. This file format is considered legacy. We recommend using instead the native Keras format, e.g. `model.save('my_model.keras')`.\n",
      "  saving_api.save_model(\n"
     ]
    }
   ],
   "source": [
    "try:\n",
    "    config = ConfigurationManager()\n",
    "    model_trainer_config = config.get_model_trainer_config()\n",
    "    model_trainer = ModelTrainer(config=model_trainer_config)\n",
    "    model_trainer = model_trainer.train()\n",
    "    \n",
    "except Exception as e:\n",
    "    raise e"
   ]
  },
  {
   "cell_type": "code",
   "execution_count": null,
   "id": "c0ec3b05",
   "metadata": {},
   "outputs": [],
   "source": []
  },
  {
   "cell_type": "code",
   "execution_count": null,
   "id": "0fd76890",
   "metadata": {},
   "outputs": [],
   "source": []
  },
  {
   "cell_type": "code",
   "execution_count": null,
   "id": "2e778102",
   "metadata": {},
   "outputs": [],
   "source": []
  },
  {
   "cell_type": "code",
   "execution_count": null,
   "id": "023c3297",
   "metadata": {},
   "outputs": [],
   "source": []
  },
  {
   "cell_type": "code",
   "execution_count": null,
   "id": "d1e5f8dd",
   "metadata": {},
   "outputs": [],
   "source": []
  },
  {
   "cell_type": "code",
   "execution_count": null,
   "id": "170c6a79",
   "metadata": {},
   "outputs": [],
   "source": []
  },
  {
   "cell_type": "code",
   "execution_count": null,
   "id": "4bd66986",
   "metadata": {},
   "outputs": [],
   "source": []
  },
  {
   "cell_type": "code",
   "execution_count": null,
   "id": "96955f8a",
   "metadata": {},
   "outputs": [],
   "source": []
  },
  {
   "cell_type": "code",
   "execution_count": null,
   "id": "77cba0f3",
   "metadata": {},
   "outputs": [],
   "source": []
  },
  {
   "cell_type": "code",
   "execution_count": null,
   "id": "2cdc6440",
   "metadata": {},
   "outputs": [],
   "source": []
  }
 ],
 "metadata": {
  "kernelspec": {
   "display_name": "sentA",
   "language": "python",
   "name": "python3"
  },
  "language_info": {
   "codemirror_mode": {
    "name": "ipython",
    "version": 3
   },
   "file_extension": ".py",
   "mimetype": "text/x-python",
   "name": "python",
   "nbconvert_exporter": "python",
   "pygments_lexer": "ipython3",
   "version": "3.9.23"
  }
 },
 "nbformat": 4,
 "nbformat_minor": 5
}
