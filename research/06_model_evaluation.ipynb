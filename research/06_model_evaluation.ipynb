{
 "cells": [
  {
   "cell_type": "code",
   "execution_count": 1,
   "id": "2b66a502",
   "metadata": {},
   "outputs": [],
   "source": [
    "import os"
   ]
  },
  {
   "cell_type": "code",
   "execution_count": 2,
   "id": "13ea346d",
   "metadata": {},
   "outputs": [
    {
     "data": {
      "text/plain": [
       "'c:\\\\Users\\\\ainao\\\\Downloads\\\\Projects\\\\Sentiment Analysis of Amazon Reviews\\\\research'"
      ]
     },
     "execution_count": 2,
     "metadata": {},
     "output_type": "execute_result"
    }
   ],
   "source": [
    "%pwd"
   ]
  },
  {
   "cell_type": "code",
   "execution_count": 3,
   "id": "95413b6c",
   "metadata": {},
   "outputs": [],
   "source": [
    "os.chdir(\"../\")"
   ]
  },
  {
   "cell_type": "code",
   "execution_count": 4,
   "id": "b32b7c28",
   "metadata": {},
   "outputs": [
    {
     "data": {
      "text/plain": [
       "'c:\\\\Users\\\\ainao\\\\Downloads\\\\Projects\\\\Sentiment Analysis of Amazon Reviews'"
      ]
     },
     "execution_count": 4,
     "metadata": {},
     "output_type": "execute_result"
    }
   ],
   "source": [
    "%pwd"
   ]
  },
  {
   "cell_type": "code",
   "execution_count": 5,
   "id": "95e98210",
   "metadata": {},
   "outputs": [
    {
     "name": "stderr",
     "output_type": "stream",
     "text": [
      "c:\\Users\\ainao\\anaconda3\\envs\\sentA\\lib\\site-packages\\tensorflow_hub\\__init__.py:61: UserWarning: pkg_resources is deprecated as an API. See https://setuptools.pypa.io/en/latest/pkg_resources.html. The pkg_resources package is slated for removal as early as 2025-11-30. Refrain from using this package or pin to Setuptools<81.\n",
      "  from pkg_resources import parse_version\n"
     ]
    }
   ],
   "source": [
    "import tensorflow as tf\n",
    "import tensorflow_hub as hub"
   ]
  },
  {
   "cell_type": "code",
   "execution_count": 6,
   "id": "328a75bf",
   "metadata": {},
   "outputs": [],
   "source": [
    "import tensorflow as tf\n",
    "import tensorflow_hub as hub\n",
    "\n",
    "\n"
   ]
  },
  {
   "cell_type": "code",
   "execution_count": 7,
   "id": "ebc157ed",
   "metadata": {},
   "outputs": [],
   "source": [
    "from dataclasses import dataclass\n",
    "from pathlib import Path\n",
    "\n",
    "\n",
    "@dataclass(frozen=True)\n",
    "class EvaluationConfig:\n",
    "    path_of_model: Path\n",
    "    test_data: Path\n",
    "    all_params: dict"
   ]
  },
  {
   "cell_type": "code",
   "execution_count": 8,
   "id": "e2cde957",
   "metadata": {},
   "outputs": [],
   "source": [
    "from sentimentanalyzer.utils.common import read_yaml, create_directories  # adjust import as needed\n",
    "from sentimentanalyzer.constants import CONFIG_FILE_PATH, PARAMS_FILE_PATH"
   ]
  },
  {
   "cell_type": "code",
   "execution_count": 9,
   "id": "357f73be",
   "metadata": {},
   "outputs": [],
   "source": [
    "class ConfigurationManager:\n",
    "    def __init__(\n",
    "        self, \n",
    "        config_filepath = CONFIG_FILE_PATH,\n",
    "        params_filepath = PARAMS_FILE_PATH):\n",
    "        self.config = read_yaml(config_filepath)\n",
    "        self.params = read_yaml(params_filepath)\n",
    "        create_directories([self.config.artifacts_root])\n",
    "\n",
    "    \n",
    "    def get_evaluation_config(self) -> EvaluationConfig:\n",
    "        eval_config = EvaluationConfig(\n",
    "            path_of_model=\"artifacts/model_trainer_USE/model.h5\",\n",
    "            test_data=\"artifacts/model_trainer_USE/test.tfrecord\",\n",
    "            all_params=self.params\n",
    "        )\n",
    "        return eval_config"
   ]
  },
  {
   "cell_type": "code",
   "execution_count": 10,
   "id": "0e1ea4df",
   "metadata": {},
   "outputs": [],
   "source": [
    "import tensorflow as tf\n",
    "import json\n",
    "from pathlib import Path\n",
    "from sentimentanalyzer.utils.common import save_json"
   ]
  },
  {
   "cell_type": "code",
   "execution_count": 11,
   "id": "bf5fb5ec",
   "metadata": {},
   "outputs": [],
   "source": [
    "class Evaluation:\n",
    "    def __init__(self, config: 'EvaluationConfig'):\n",
    "        self.config = config\n",
    "        self.model = None\n",
    "        self.test_ds = None\n",
    "        self.score = None\n",
    "       \n",
    "\n",
    "    def load_model(self) -> tf.keras.Model:\n",
    "        \"\"\"\n",
    "        Load and return the Keras model from the configured path.\n",
    "        \"\"\"\n",
    "        model_path: Path = self.config.path_of_model\n",
    "        self.model = tf.keras.models.load_model(model_path, custom_objects={'KerasLayer': hub.KerasLayer})\n",
    "        return self.model\n",
    "\n",
    "\n",
    "    def load_test_dataset(self, batch_size: int = 32, tfrecord_path: str = None):\n",
    "       \n",
    "       \"\"\"\n",
    "       Load the test split from TFRecord—deterministic\n",
    "       \"\"\"\n",
    "       # Determine file path\n",
    "       path = tfrecord_path or os.path.join(self.config.test_data)\n",
    "   \n",
    "       # Define feature spec once\n",
    "       feature_spec = {\n",
    "        'text':   tf.io.FixedLenFeature([], tf.string),\n",
    "        'target': tf.io.FixedLenFeature([], tf.int64),\n",
    "       }\n",
    "\n",
    "       # Parser function (no lambda)\n",
    "       def _parse_example(serialized):\n",
    "           parsed = tf.io.parse_single_example(serialized, feature_spec)\n",
    "           return parsed['text'], parsed['target']\n",
    "\n",
    "       # Build dataset\n",
    "       ds = (\n",
    "            tf.data.TFRecordDataset(path)\n",
    "            .map(_parse_example, num_parallel_calls=tf.data.AUTOTUNE)\n",
    "            .batch(batch_size)\n",
    "            .prefetch(tf.data.AUTOTUNE)\n",
    "        )\n",
    "\n",
    "       self.test_ds = ds\n",
    "       return ds\n",
    "\n",
    "\n",
    "\n",
    "    def evaluate(self) -> tuple:\n",
    "         self.load_model()\n",
    "         self.test_ds = self.load_test_dataset()\n",
    "         self.score = self.model.evaluate(self.test_ds)\n",
    "         self.save_score()\n",
    "         return self.score\n",
    "\n",
    "       \n",
    "\n",
    "    def save_score(self, output_path: Path = Path(\"scores.json\")) -> None:\n",
    "        \"\"\"\n",
    "        Save evaluation results to a JSON file at output_path.\n",
    "        \"\"\"\n",
    "        if self.score is None:\n",
    "            raise ValueError(\"No evaluation score to save. Run evaluate() first.\")\n",
    "\n",
    "        loss, accuracy = self.score\n",
    "        scores = {\"loss\": float(loss), \"accuracy\": float(accuracy)}\n",
    "        save_json(path=output_path, data=scores)\n"
   ]
  },
  {
   "cell_type": "code",
   "execution_count": 12,
   "id": "96f2e8f7",
   "metadata": {},
   "outputs": [
    {
     "name": "stdout",
     "output_type": "stream",
     "text": [
      "[2025-06-15 11:26:45,987: INFO: common: yaml file: config\\config.yaml loaded successfully]\n",
      "[2025-06-15 11:26:45,997: INFO: common: yaml file: params.yaml loaded successfully]\n",
      "[2025-06-15 11:26:46,003: INFO: common: created directory at: artifacts]\n",
      "[2025-06-15 11:26:46,090: INFO: resolver: Using C:\\Users\\ainao\\AppData\\Local\\Temp\\tfhub_modules to cache modules.]\n",
      "[2025-06-15 11:26:52,073: INFO: load: Fingerprint not found. Saved model loading will continue.]\n",
      "[2025-06-15 11:27:00,625: INFO: load: Fingerprint not found. Saved model loading will continue.]\n"
     ]
    },
    {
     "name": "stderr",
     "output_type": "stream",
     "text": [
      "c:\\Users\\ainao\\anaconda3\\envs\\sentA\\lib\\site-packages\\keras\\src\\backend.py:5714: UserWarning: \"`sparse_categorical_crossentropy` received `from_logits=True`, but the `output` argument was produced by a Softmax activation and thus does not represent logits. Was this intended?\n",
      "  output, from_logits = _get_logits(\n"
     ]
    },
    {
     "name": "stdout",
     "output_type": "stream",
     "text": [
      "32/32 [==============================] - 2s 49ms/step - loss: 0.5905 - sparse_categorical_accuracy: 0.6800\n",
      "[2025-06-15 11:27:07,255: INFO: common: json file saved at: scores.json]\n",
      "[2025-06-15 11:27:07,259: INFO: common: json file saved at: scores.json]\n"
     ]
    }
   ],
   "source": [
    "try:\n",
    "    config = ConfigurationManager()\n",
    "    val_config = config.get_evaluation_config()\n",
    "    evaluation = Evaluation(val_config)\n",
    "    evaluation.load_model()\n",
    "    evaluation.load_test_dataset()\n",
    "    evaluation.evaluate()\n",
    "    evaluation.save_score()\n",
    "\n",
    "except Exception as e:\n",
    "   raise e"
   ]
  },
  {
   "cell_type": "code",
   "execution_count": null,
   "id": "a37780bf",
   "metadata": {},
   "outputs": [],
   "source": []
  },
  {
   "cell_type": "code",
   "execution_count": null,
   "id": "f94225cc",
   "metadata": {},
   "outputs": [],
   "source": []
  }
 ],
 "metadata": {
  "kernelspec": {
   "display_name": "sentA",
   "language": "python",
   "name": "python3"
  },
  "language_info": {
   "codemirror_mode": {
    "name": "ipython",
    "version": 3
   },
   "file_extension": ".py",
   "mimetype": "text/x-python",
   "name": "python",
   "nbconvert_exporter": "python",
   "pygments_lexer": "ipython3",
   "version": "3.9.23"
  }
 },
 "nbformat": 4,
 "nbformat_minor": 5
}
