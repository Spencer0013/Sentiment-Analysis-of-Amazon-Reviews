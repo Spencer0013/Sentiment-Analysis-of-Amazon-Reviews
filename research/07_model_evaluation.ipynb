{
 "cells": [
  {
   "cell_type": "code",
   "execution_count": 1,
   "id": "2b66a502",
   "metadata": {},
   "outputs": [],
   "source": [
    "import os"
   ]
  },
  {
   "cell_type": "code",
   "execution_count": 2,
   "id": "13ea346d",
   "metadata": {},
   "outputs": [
    {
     "data": {
      "text/plain": [
       "'c:\\\\Users\\\\ainao\\\\Downloads\\\\Projects\\\\Sentiment Analysis of Amazon Reviews\\\\research'"
      ]
     },
     "execution_count": 2,
     "metadata": {},
     "output_type": "execute_result"
    }
   ],
   "source": [
    "%pwd"
   ]
  },
  {
   "cell_type": "code",
   "execution_count": 3,
   "id": "95413b6c",
   "metadata": {},
   "outputs": [],
   "source": [
    "os.chdir(\"../\")"
   ]
  },
  {
   "cell_type": "code",
   "execution_count": 4,
   "id": "b32b7c28",
   "metadata": {},
   "outputs": [
    {
     "data": {
      "text/plain": [
       "'c:\\\\Users\\\\ainao\\\\Downloads\\\\Projects\\\\Sentiment Analysis of Amazon Reviews'"
      ]
     },
     "execution_count": 4,
     "metadata": {},
     "output_type": "execute_result"
    }
   ],
   "source": [
    "%pwd"
   ]
  },
  {
   "cell_type": "code",
   "execution_count": 5,
   "id": "95e98210",
   "metadata": {},
   "outputs": [
    {
     "name": "stderr",
     "output_type": "stream",
     "text": [
      "c:\\Users\\ainao\\anaconda3\\envs\\sentA\\lib\\site-packages\\tensorflow_hub\\__init__.py:61: UserWarning: pkg_resources is deprecated as an API. See https://setuptools.pypa.io/en/latest/pkg_resources.html. The pkg_resources package is slated for removal as early as 2025-11-30. Refrain from using this package or pin to Setuptools<81.\n",
      "  from pkg_resources import parse_version\n"
     ]
    }
   ],
   "source": [
    "import tensorflow as tf\n",
    "import tensorflow_hub as hub"
   ]
  },
  {
   "cell_type": "code",
   "execution_count": 6,
   "id": "ebc157ed",
   "metadata": {},
   "outputs": [],
   "source": [
    "from dataclasses import dataclass\n",
    "from pathlib import Path\n",
    "\n",
    "\n",
    "@dataclass(frozen=True)\n",
    "class EvaluationConfig:\n",
    "    path_of_model: Path\n",
    "    data_path: Path\n",
    "    all_params: dict"
   ]
  },
  {
   "cell_type": "code",
   "execution_count": 7,
   "id": "e2cde957",
   "metadata": {},
   "outputs": [],
   "source": [
    "from sentimentanalyzer.utils.common import read_yaml, create_directories  # adjust import as needed\n",
    "from sentimentanalyzer.constants import CONFIG_FILE_PATH, PARAMS_FILE_PATH"
   ]
  },
  {
   "cell_type": "code",
   "execution_count": 8,
   "id": "357f73be",
   "metadata": {},
   "outputs": [],
   "source": [
    "class ConfigurationManager:\n",
    "    def __init__(\n",
    "        self, \n",
    "        config_filepath = CONFIG_FILE_PATH,\n",
    "        params_filepath = PARAMS_FILE_PATH):\n",
    "        self.config = read_yaml(config_filepath)\n",
    "        self.params = read_yaml(params_filepath)\n",
    "        create_directories([self.config.artifacts_root])\n",
    "\n",
    "    \n",
    "    def get_evaluation_config(self) -> EvaluationConfig:\n",
    "        eval_config = EvaluationConfig(\n",
    "            path_of_model=\"artifacts/model_trainer/sentiment_model\",\n",
    "            data_path=\"artifacts/data_transformation\",\n",
    "            all_params=self.params\n",
    "        )\n",
    "        return eval_config"
   ]
  },
  {
   "cell_type": "code",
   "execution_count": 9,
   "id": "0e1ea4df",
   "metadata": {},
   "outputs": [],
   "source": [
    "import tensorflow as tf\n",
    "import numpy as np\n",
    "import json\n",
    "from pathlib import Path\n",
    "from sentimentanalyzer.utils.common import save_json, load_fasttext_file"
   ]
  },
  {
   "cell_type": "code",
   "execution_count": 10,
   "id": "bf5fb5ec",
   "metadata": {},
   "outputs": [],
   "source": [
    "class Evaluation:\n",
    "    def __init__(self, config: 'EvaluationConfig'):\n",
    "        self.config = config\n",
    "        self.model = None\n",
    "        self.test_ds = None\n",
    "        self.score = None\n",
    "       \n",
    "        test_path = Path(config.data_path) / \"test_ft.txt\"\n",
    "        self.test_texts, self.test_labels = load_fasttext_file(test_path)\n",
    "        self.test_texts = self.test_texts\n",
    "        self.test_labels = self.test_labels\n",
    "\n",
    "    def load_model(self) -> tf.keras.Model:\n",
    "        \"\"\"\n",
    "        Load and return the Keras model from the configured path.\n",
    "        \"\"\"\n",
    "        model_path: Path = self.config.path_of_model\n",
    "        self.model = tf.keras.models.load_model(model_path, custom_objects={'KerasLayer': hub.KerasLayer})\n",
    "        return self.model\n",
    "\n",
    "    def evaluate(self) -> tuple:\n",
    "         self.load_model()\n",
    "         self.score = self.model.evaluate(\n",
    "             x =np.array(self.test_texts),\n",
    "             y =np.array(self.test_labels)\n",
    "         )\n",
    "         self.save_score()\n",
    "         return self.score\n",
    "\n",
    "    \n",
    "    def save_score(self, output_path: Path = Path(\"scores.json\")) -> None:\n",
    "        \"\"\"\n",
    "        Save evaluation results to a JSON file at output_path.\n",
    "        \"\"\"\n",
    "        if self.score is None:\n",
    "            raise ValueError(\"No evaluation score to save. Run evaluate() first.\")\n",
    "\n",
    "        loss, accuracy = self.score\n",
    "        scores = {\"loss\": float(loss), \"accuracy\": float(accuracy)}\n",
    "        save_json(path=output_path, data=scores)\n"
   ]
  },
  {
   "cell_type": "code",
   "execution_count": 11,
   "id": "96f2e8f7",
   "metadata": {},
   "outputs": [
    {
     "name": "stdout",
     "output_type": "stream",
     "text": [
      "[2025-06-18 06:30:36,742: INFO: common: yaml file: config\\config.yaml loaded successfully]\n",
      "[2025-06-18 06:30:36,750: INFO: common: yaml file: params.yaml loaded successfully]\n",
      "[2025-06-18 06:30:36,756: INFO: common: created directory at: artifacts]\n",
      "4/4 [==============================] - 0s 8ms/step - loss: 0.6929 - accuracy: 0.5300\n",
      "[2025-06-18 06:30:38,179: INFO: common: json file saved at: scores.json]\n",
      "[2025-06-18 06:30:38,181: INFO: common: json file saved at: scores.json]\n"
     ]
    }
   ],
   "source": [
    "try:\n",
    "    config = ConfigurationManager()\n",
    "    val_config = config.get_evaluation_config()\n",
    "    evaluation = Evaluation(val_config)\n",
    "    evaluation.load_model()\n",
    "    evaluation.evaluate()\n",
    "    evaluation.save_score()\n",
    "\n",
    "except Exception as e:\n",
    "   raise e"
   ]
  },
  {
   "cell_type": "code",
   "execution_count": null,
   "id": "a37780bf",
   "metadata": {},
   "outputs": [],
   "source": []
  },
  {
   "cell_type": "code",
   "execution_count": null,
   "id": "f94225cc",
   "metadata": {},
   "outputs": [],
   "source": []
  }
 ],
 "metadata": {
  "kernelspec": {
   "display_name": "sentA",
   "language": "python",
   "name": "python3"
  },
  "language_info": {
   "codemirror_mode": {
    "name": "ipython",
    "version": 3
   },
   "file_extension": ".py",
   "mimetype": "text/x-python",
   "name": "python",
   "nbconvert_exporter": "python",
   "pygments_lexer": "ipython3",
   "version": "3.9.23"
  }
 },
 "nbformat": 4,
 "nbformat_minor": 5
}
