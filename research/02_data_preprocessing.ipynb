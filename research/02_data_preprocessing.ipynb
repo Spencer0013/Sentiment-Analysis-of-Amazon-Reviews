{
 "cells": [
  {
   "cell_type": "code",
   "execution_count": 1,
   "id": "14998250",
   "metadata": {},
   "outputs": [],
   "source": [
    "import os"
   ]
  },
  {
   "cell_type": "code",
   "execution_count": 2,
   "id": "fb6a6182",
   "metadata": {},
   "outputs": [
    {
     "data": {
      "text/plain": [
       "'c:\\\\Users\\\\ainao\\\\Downloads\\\\Projects\\\\Sentiment Analysis of Amazon Reviews\\\\research'"
      ]
     },
     "execution_count": 2,
     "metadata": {},
     "output_type": "execute_result"
    }
   ],
   "source": [
    "%pwd"
   ]
  },
  {
   "cell_type": "code",
   "execution_count": 3,
   "id": "db0a8b49",
   "metadata": {},
   "outputs": [],
   "source": [
    "os.chdir(\"../\")"
   ]
  },
  {
   "cell_type": "code",
   "execution_count": 4,
   "id": "7273a9b7",
   "metadata": {},
   "outputs": [
    {
     "data": {
      "text/plain": [
       "'c:\\\\Users\\\\ainao\\\\Downloads\\\\Projects\\\\Sentiment Analysis of Amazon Reviews'"
      ]
     },
     "execution_count": 4,
     "metadata": {},
     "output_type": "execute_result"
    }
   ],
   "source": [
    "%pwd"
   ]
  },
  {
   "cell_type": "code",
   "execution_count": 5,
   "id": "df75006f",
   "metadata": {},
   "outputs": [],
   "source": [
    "from dataclasses import dataclass\n",
    "from pathlib import Path\n",
    "\n",
    "@dataclass\n",
    "class PreprocessingConfig:\n",
    "    root_dir: Path\n",
    "    ingestion_dir: Path\n",
    "    output_dir: Path"
   ]
  },
  {
   "cell_type": "code",
   "execution_count": 6,
   "id": "45d3a4b9",
   "metadata": {},
   "outputs": [],
   "source": [
    "\n",
    "from pathlib import Path\n",
    "from dataclasses import dataclass\n",
    "import yaml\n",
    "from sentimentanalyzer.constants import CONFIG_FILE_PATH,PARAMS_FILE_PATH\n",
    "from sentimentanalyzer.utils.common import create_directories,read_yaml"
   ]
  },
  {
   "cell_type": "code",
   "execution_count": 7,
   "id": "d565bfc9",
   "metadata": {},
   "outputs": [],
   "source": [
    "\n",
    "class ConfigurationManager:\n",
    "    def __init__(\n",
    "        self,\n",
    "        config_filepath = CONFIG_FILE_PATH,\n",
    "        params_filepath = PARAMS_FILE_PATH):\n",
    "\n",
    "        self.config = read_yaml(config_filepath)\n",
    "        self.params = read_yaml(params_filepath)\n",
    "\n",
    "        create_directories([self.config.artifacts_root])\n",
    "\n",
    "  \n",
    "\n",
    "    def get_preprocessing_config(self) -> PreprocessingConfig:\n",
    "        config = self.config.data_preprocessing\n",
    "\n",
    "        create_directories([config.root_dir])\n",
    "\n",
    "        data_preprocessing_config = PreprocessingConfig(\n",
    "                      root_dir =config.root_dir,\n",
    "                      ingestion_dir = config.ingestion_dir,\n",
    "                      output_dir = config.output_dir\n",
    "               )\n",
    "        \n",
    "        return data_preprocessing_config"
   ]
  },
  {
   "cell_type": "code",
   "execution_count": 8,
   "id": "7c4277cc",
   "metadata": {},
   "outputs": [],
   "source": [
    "import pandas as pd\n",
    "from pathlib import Path\n",
    "from src.sentimentanalyzer.utils.common import convert_to_csv, preprocess_review_list, clean_sentiment_text\n",
    "import re, contractions, emoji\n",
    "from sentimentanalyzer.logging import logger\n"
   ]
  },
  {
   "cell_type": "code",
   "execution_count": 9,
   "id": "32330fad",
   "metadata": {},
   "outputs": [],
   "source": [
    "\n",
    "\n",
    "\n",
    "class DataPreprocessing:\n",
    "    def __init__(self, config: PreprocessingConfig):\n",
    "        self.config = config\n",
    "\n",
    "        # Ensure output directory exists\n",
    "        create_directories([Path(self.config.root_dir)])\n",
    "\n",
    "    def preprocess(self):\n",
    "        ingestion_dir = Path(self.config.ingestion_dir)\n",
    "        output_dir    = Path(self.config.output_dir)\n",
    "\n",
    "        # Find all .ft.txt files in ingestion_dir\n",
    "        txt_files = list(ingestion_dir.glob(\"*.ft.txt\"))\n",
    "        if not txt_files:\n",
    "            logger.warning(f\"No .ft.txt files found in {ingestion_dir}\")\n",
    "            return\n",
    "\n",
    "        for txt_path in txt_files:\n",
    "            split_name = txt_path.stem.replace(\".ft\", \"\")  # e.g. 'train'\n",
    "            csv_raw_path = output_dir / f\"{split_name}_raw.csv\"\n",
    "            csv_cleaned  = output_dir / f\"{split_name}_clean.csv\"\n",
    "\n",
    "            logger.info(f\"Converting {txt_path.name} → {csv_raw_path.name}\")\n",
    "            convert_to_csv(txt_path, csv_raw_path)\n",
    "\n",
    "            logger.info(f\"Loading {csv_raw_path.name} into DataFrame\")\n",
    "            df_raw = pd.read_csv(csv_raw_path, low_memory=True)\n",
    "\n",
    "            logger.info(f\"Applying `preprocess_review_list` to {split_name}\")\n",
    "            df_clean = preprocess_review_list(df_raw)\n",
    "\n",
    "            logger.info(f\"Saving cleaned data to {csv_cleaned.name}\")\n",
    "            df_clean.to_csv(csv_cleaned, index=False)\n",
    "\n",
    "        logger.info(\"Preprocessing complete.\")\n"
   ]
  },
  {
   "cell_type": "code",
   "execution_count": 10,
   "id": "ec35dc4b",
   "metadata": {},
   "outputs": [
    {
     "name": "stdout",
     "output_type": "stream",
     "text": [
      "[2025-06-15 00:05:48,070: INFO: common: yaml file: config\\config.yaml loaded successfully]\n",
      "[2025-06-15 00:05:48,080: INFO: common: yaml file: params.yaml loaded successfully]\n",
      "[2025-06-15 00:05:48,082: INFO: common: created directory at: artifacts]\n",
      "[2025-06-15 00:05:48,083: INFO: common: created directory at: artifacts/data_preprocessing]\n",
      "[2025-06-15 00:05:48,084: INFO: common: created directory at: artifacts\\data_preprocessing]\n",
      "[2025-06-15 00:05:48,086: INFO: 2374303811: Converting test.ft.txt → test_raw.csv]\n",
      "[2025-06-15 00:05:51,638: INFO: 2374303811: Loading test_raw.csv into DataFrame]\n",
      "[2025-06-15 00:05:53,929: INFO: 2374303811: Applying `preprocess_review_list` to test]\n",
      "[2025-06-15 00:06:24,955: INFO: 2374303811: Saving cleaned data to test_clean.csv]\n",
      "[2025-06-15 00:06:30,984: INFO: 2374303811: Converting train.ft.txt → train_raw.csv]\n",
      "[2025-06-15 00:07:14,845: INFO: 2374303811: Loading train_raw.csv into DataFrame]\n",
      "[2025-06-15 00:07:30,726: INFO: 2374303811: Applying `preprocess_review_list` to train]\n",
      "[2025-06-15 00:13:06,305: INFO: 2374303811: Saving cleaned data to train_clean.csv]\n",
      "[2025-06-15 00:14:01,305: INFO: 2374303811: Preprocessing complete.]\n"
     ]
    }
   ],
   "source": [
    "\n",
    "try:\n",
    "    config = ConfigurationManager()\n",
    "    data_preprocessing_config = config.get_preprocessing_config()\n",
    "    data_preprocessor = DataPreprocessing(config=data_preprocessing_config)\n",
    "    data_preprocessor.preprocess()\n",
    "except Exception as e:\n",
    "    raise e\n"
   ]
  },
  {
   "cell_type": "code",
   "execution_count": null,
   "id": "94e2274d",
   "metadata": {},
   "outputs": [],
   "source": []
  },
  {
   "cell_type": "code",
   "execution_count": null,
   "id": "c8e61c52",
   "metadata": {},
   "outputs": [],
   "source": []
  }
 ],
 "metadata": {
  "kernelspec": {
   "display_name": "sentA",
   "language": "python",
   "name": "python3"
  },
  "language_info": {
   "codemirror_mode": {
    "name": "ipython",
    "version": 3
   },
   "file_extension": ".py",
   "mimetype": "text/x-python",
   "name": "python",
   "nbconvert_exporter": "python",
   "pygments_lexer": "ipython3",
   "version": "3.9.23"
  }
 },
 "nbformat": 4,
 "nbformat_minor": 5
}
