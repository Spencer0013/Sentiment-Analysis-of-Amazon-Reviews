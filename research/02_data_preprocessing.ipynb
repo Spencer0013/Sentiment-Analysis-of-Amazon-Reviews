{
 "cells": [
  {
   "cell_type": "code",
   "execution_count": 1,
   "id": "14998250",
   "metadata": {},
   "outputs": [],
   "source": [
    "import os"
   ]
  },
  {
   "cell_type": "code",
   "execution_count": 2,
   "id": "fb6a6182",
   "metadata": {},
   "outputs": [
    {
     "data": {
      "text/plain": [
       "'c:\\\\Users\\\\ainao\\\\Downloads\\\\Projects\\\\Sentiment Analysis of Amazon Reviews\\\\research'"
      ]
     },
     "execution_count": 2,
     "metadata": {},
     "output_type": "execute_result"
    }
   ],
   "source": [
    "%pwd"
   ]
  },
  {
   "cell_type": "code",
   "execution_count": 3,
   "id": "db0a8b49",
   "metadata": {},
   "outputs": [],
   "source": [
    "os.chdir(\"../\")"
   ]
  },
  {
   "cell_type": "code",
   "execution_count": 4,
   "id": "7273a9b7",
   "metadata": {},
   "outputs": [
    {
     "data": {
      "text/plain": [
       "'c:\\\\Users\\\\ainao\\\\Downloads\\\\Projects\\\\Sentiment Analysis of Amazon Reviews'"
      ]
     },
     "execution_count": 4,
     "metadata": {},
     "output_type": "execute_result"
    }
   ],
   "source": [
    "%pwd"
   ]
  },
  {
   "cell_type": "code",
   "execution_count": 5,
   "id": "df75006f",
   "metadata": {},
   "outputs": [],
   "source": [
    "from dataclasses import dataclass\n",
    "from pathlib import Path\n",
    "\n",
    "@dataclass\n",
    "class PreprocessingConfig:\n",
    "    root_dir: Path\n",
    "    ingestion_dir: Path\n",
    "    output_dir: Path"
   ]
  },
  {
   "cell_type": "code",
   "execution_count": 6,
   "id": "45d3a4b9",
   "metadata": {},
   "outputs": [],
   "source": [
    "\n",
    "from pathlib import Path\n",
    "from dataclasses import dataclass\n",
    "import yaml\n",
    "from sentimentanalyzer.constants import CONFIG_FILE_PATH,PARAMS_FILE_PATH\n",
    "from sentimentanalyzer.utils.common import create_directories,read_yaml"
   ]
  },
  {
   "cell_type": "code",
   "execution_count": 7,
   "id": "d565bfc9",
   "metadata": {},
   "outputs": [],
   "source": [
    "\n",
    "class ConfigurationManager:\n",
    "    def __init__(\n",
    "        self,\n",
    "        config_filepath = CONFIG_FILE_PATH,\n",
    "        params_filepath = PARAMS_FILE_PATH):\n",
    "\n",
    "        self.config = read_yaml(config_filepath)\n",
    "        self.params = read_yaml(params_filepath)\n",
    "\n",
    "        create_directories([self.config.artifacts_root])\n",
    "\n",
    "  \n",
    "\n",
    "    def get_preprocessing_config(self) -> PreprocessingConfig:\n",
    "        config = self.config.data_preprocessing\n",
    "\n",
    "        create_directories([config.root_dir])\n",
    "\n",
    "        data_preprocessing_config = PreprocessingConfig(\n",
    "                      root_dir =config.root_dir,\n",
    "                      ingestion_dir = config.ingestion_dir,\n",
    "                      output_dir = config.output_dir\n",
    "               )\n",
    "        \n",
    "        return data_preprocessing_config"
   ]
  },
  {
   "cell_type": "code",
   "execution_count": 8,
   "id": "7c4277cc",
   "metadata": {},
   "outputs": [],
   "source": [
    "import pandas as pd\n",
    "import numpy as np\n",
    "from pathlib import Path\n",
    "from src.sentimentanalyzer.utils.common import convert_to_csv, preprocess_review_list, clean_sentiment_text, get_labels_and_texts_from_txt\n",
    "import re, contractions, emoji\n",
    "from sentimentanalyzer.logging import logger\n"
   ]
  },
  {
   "cell_type": "code",
   "execution_count": 9,
   "id": "1ec0202f",
   "metadata": {},
   "outputs": [],
   "source": [
    "import numpy as np\n",
    "from pathlib import Path\n",
    "from typing import List, Tuple\n",
    "\n",
    "class DataPreprocessing:\n",
    "    def __init__(self, config: PreprocessingConfig):\n",
    "        self.config = config\n",
    "\n",
    "        # Ensure output directory exists\n",
    "        create_directories([Path(self.config.root_dir)])\n",
    "\n",
    "        ingestion_dir = Path(self.config.ingestion_dir)\n",
    "        output_dir = Path(self.config.output_dir)\n",
    "        output_dir.mkdir(parents=True, exist_ok=True)\n",
    "\n",
    "        datasets = {\n",
    "            \"train\": ingestion_dir / \"train.ft.txt\",\n",
    "            \"test\": ingestion_dir / \"test.ft.txt\"\n",
    "        }\n",
    "\n",
    "        for split, filepath in datasets.items():\n",
    "            if filepath.exists():\n",
    "                labels, texts = get_labels_and_texts_from_txt(filepath, max_lines=100)\n",
    "\n",
    "                # Save with split in filename\n",
    "                labels_path = output_dir / f\"{split}_labels.npy\"\n",
    "                texts_path = output_dir / f\"{split}_texts.txt\"\n",
    "\n",
    "                np.save(labels_path, labels)\n",
    "                with open(texts_path, \"w\", encoding=\"utf-8\") as f_out:\n",
    "                    for text in texts:\n",
    "                        f_out.write(text + \"\\n\")\n",
    "\n",
    "                print(f\"{split.capitalize()} set saved:\")\n",
    "                print(f\"✅ Labels -> {labels_path}\")\n",
    "                print(f\"✅ Texts  -> {texts_path}\")\n",
    "            else:\n",
    "                print(f\"⚠️ No file found for {split} at {filepath}\")\n"
   ]
  },
  {
   "cell_type": "code",
   "execution_count": 10,
   "id": "ec35dc4b",
   "metadata": {},
   "outputs": [
    {
     "name": "stdout",
     "output_type": "stream",
     "text": [
      "[2025-06-17 19:33:21,516: INFO: common: yaml file: config\\config.yaml loaded successfully]\n",
      "[2025-06-17 19:33:21,518: INFO: common: yaml file: params.yaml loaded successfully]\n",
      "[2025-06-17 19:33:21,527: INFO: common: created directory at: artifacts]\n",
      "[2025-06-17 19:33:21,529: INFO: common: created directory at: artifacts/data_preprocessing]\n",
      "[2025-06-17 19:33:21,532: INFO: common: created directory at: artifacts\\data_preprocessing]\n",
      "Train set saved:\n",
      "✅ Labels -> artifacts\\data_preprocessing\\train_labels.npy\n",
      "✅ Texts  -> artifacts\\data_preprocessing\\train_texts.txt\n",
      "Test set saved:\n",
      "✅ Labels -> artifacts\\data_preprocessing\\test_labels.npy\n",
      "✅ Texts  -> artifacts\\data_preprocessing\\test_texts.txt\n"
     ]
    }
   ],
   "source": [
    "\n",
    "try:\n",
    "    config = ConfigurationManager()\n",
    "    data_preprocessing_config = config.get_preprocessing_config()\n",
    "    data_preprocessor = DataPreprocessing(config=data_preprocessing_config)\n",
    "except Exception as e:\n",
    "    raise e\n"
   ]
  },
  {
   "cell_type": "code",
   "execution_count": null,
   "id": "94e2274d",
   "metadata": {},
   "outputs": [],
   "source": []
  },
  {
   "cell_type": "code",
   "execution_count": null,
   "id": "c8e61c52",
   "metadata": {},
   "outputs": [],
   "source": []
  }
 ],
 "metadata": {
  "kernelspec": {
   "display_name": "sentA",
   "language": "python",
   "name": "python3"
  },
  "language_info": {
   "codemirror_mode": {
    "name": "ipython",
    "version": 3
   },
   "file_extension": ".py",
   "mimetype": "text/x-python",
   "name": "python",
   "nbconvert_exporter": "python",
   "pygments_lexer": "ipython3",
   "version": "3.9.23"
  }
 },
 "nbformat": 4,
 "nbformat_minor": 5
}
